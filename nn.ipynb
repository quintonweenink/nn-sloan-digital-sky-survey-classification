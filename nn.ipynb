{
 "cells": [
  {
   "cell_type": "code",
   "execution_count": 1,
   "metadata": {},
   "outputs": [],
   "source": [
    "import torch\n",
    "import torch.nn as nn\n",
    "import torch.nn.functional as F\n",
    "import torch.optim as optim\n",
    "from torch.autograd import Variable"
   ]
  },
  {
   "cell_type": "code",
   "execution_count": 2,
   "metadata": {},
   "outputs": [],
   "source": [
    "test = torch.cuda.is_available()"
   ]
  },
  {
   "cell_type": "code",
   "execution_count": 3,
   "metadata": {},
   "outputs": [
    {
     "name": "stdout",
     "output_type": "stream",
     "text": [
      "True\n"
     ]
    }
   ],
   "source": [
    "print(test)\n",
    "\n",
    "class Net(nn.Module):\n",
    "    def __init__(self):\n",
    "        super(Net, self).__init__()\n",
    "        self.fc1 = nn.Linear(2, 50) # 2 Input noses, 50 in middle layers\n",
    "        self.fc2 = nn.Linear(50, 1) # 50 middle layer, 1 output nodes\n",
    "        self.rl1 = nn.ReLU()\n",
    "        self.rl2 = nn.ReLU()\n",
    "        self.out = nn.Softmax(50, )\n",
    "    \n",
    "    def forward(self, x):\n",
    "        x = self.fc1(x)\n",
    "        x = self.rl1(x)\n",
    "        x = self.fc2(x)\n",
    "        x = self.rl2(x)\n",
    "        return x"
   ]
  },
  {
   "cell_type": "code",
   "execution_count": 4,
   "metadata": {},
   "outputs": [
    {
     "name": "stdout",
     "output_type": "stream",
     "text": [
      "loss:  0.702347993850708\n",
      "loss:  0.241874560713768\n",
      "loss:  0.11902198567986488\n",
      "loss:  0.04613460786640644\n",
      "loss:  0.01570436032488942\n",
      "loss:  0.00583570939488709\n",
      "loss:  0.00290548347402364\n",
      "loss:  0.0020107338204979897\n",
      "loss:  0.0017323872889392078\n",
      "loss:  0.0015860593994148076\n",
      "loss:  0.0014934564242139459\n",
      "loss:  0.0014619018184021115\n",
      "loss:  0.0014440958620980382\n",
      "loss:  0.001441370986867696\n",
      "loss:  0.0014394462341442704\n",
      "loss:  0.0014376075705513358\n",
      "loss:  0.0014357934705913067\n",
      "loss:  0.001434003992471844\n",
      "loss:  0.001432226097676903\n",
      "loss:  0.0014304436626844108\n",
      "Finished training...\n",
      "tensor([[0.0105],\n",
      "        [0.9183],\n",
      "        [0.9166],\n",
      "        [0.0582]], grad_fn=<ThresholdBackward0>)\n"
     ]
    }
   ],
   "source": [
    "net = Net()\n",
    "#print net\n",
    "\n",
    "## Optimization and Loss\n",
    "\n",
    "#criterion = nn.CrossEntropyLoss() # use a Classification Cross-Entropy loss\n",
    "criterion = nn.MSELoss()\n",
    "#criterion = nn.L1Loss()\n",
    "#criterion = nn.NLLLoss()\n",
    "#criterion = nn.BCELoss()\n",
    "optimizer = optim.SGD(net.parameters(), lr=0.001, momentum=0.1)\n",
    "#optimizer = optim.Adam(net.parameters(), lr=0.01)\n",
    "\n",
    "trainingdataX = [[[0.01, 0.01], [0.01, 0.90], [0.90, 0.01], [0.95, 0.95]], [[0.02, 0.03], [0.04, 0.95], [0.97, 0.02], [0.96, 0.95]]]\n",
    "trainingdataY = [[[0.01], [0.90], [0.90], [0.01]], [[0.04], [0.97], [0.98], [0.1]]]\n",
    "NumEpoches = 20000\n",
    "for epoch in range(NumEpoches):\n",
    "\n",
    "    running_loss = 0.0\n",
    "    for i, data in enumerate(trainingdataX, 0):\n",
    "        inputs = data\n",
    "        labels = trainingdataY[i]\n",
    "        inputs = Variable(torch.FloatTensor(inputs))\n",
    "        labels = Variable(torch.FloatTensor(labels))\n",
    "        optimizer.zero_grad()\n",
    "        outputs = net(inputs)\n",
    "        loss = criterion(outputs, labels)\n",
    "        loss.backward()        \n",
    "        optimizer.step()\n",
    "        running_loss += loss.item()\n",
    "    if epoch % 1000 == 0:\n",
    "        print(\"loss: \", running_loss)\n",
    "print(\"Finished training...\")\n",
    "print(net(Variable(torch.FloatTensor(trainingdataX[0]))))"
   ]
  },
  {
   "cell_type": "code",
   "execution_count": 5,
   "metadata": {},
   "outputs": [
    {
     "name": "stdout",
     "output_type": "stream",
     "text": [
      "loss:  0.0014127169852145016\n",
      "Finished testing...\n",
      "tensor([[0.0105],\n",
      "        [0.9183],\n",
      "        [0.9166],\n",
      "        [0.0582]], grad_fn=<ThresholdBackward0>)\n"
     ]
    }
   ],
   "source": [
    "net.eval()\n",
    "\n",
    "\n",
    "testingdataX = [[[0.01, 0.01], [0.01, 0.90], [0.90, 0.01], [0.95, 0.95]], [[0.02, 0.03], [0.04, 0.95], [0.97, 0.02], [0.96, 0.95]]]\n",
    "ttestingdataY = [[[0.01], [0.90], [0.90], [0.01]], [[0.04], [0.97], [0.98], [0.1]]]\n",
    "\n",
    "running_loss = 0.0\n",
    "for i, data in enumerate(trainingdataX, 0):\n",
    "    inputs = data\n",
    "    labels = trainingdataY[i]\n",
    "    inputs = Variable(torch.FloatTensor(inputs))\n",
    "    labels = Variable(torch.FloatTensor(labels))\n",
    "    outputs = net(inputs)\n",
    "    loss = criterion(outputs, labels)\n",
    "    running_loss += loss.item()\n",
    "print(\"loss: \", running_loss)\n",
    "        \n",
    "print(\"Finished testing...\")\n",
    "print(net(Variable(torch.FloatTensor(trainingdataX[0]))))"
   ]
  }
 ],
 "metadata": {
  "kernelspec": {
   "display_name": "Python 3",
   "language": "python",
   "name": "python3"
  },
  "language_info": {
   "codemirror_mode": {
    "name": "ipython",
    "version": 3
   },
   "file_extension": ".py",
   "mimetype": "text/x-python",
   "name": "python",
   "nbconvert_exporter": "python",
   "pygments_lexer": "ipython3",
   "version": "3.5.2"
  }
 },
 "nbformat": 4,
 "nbformat_minor": 1
}
