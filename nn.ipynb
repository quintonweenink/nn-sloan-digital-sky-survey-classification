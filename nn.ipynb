{
 "cells": [
  {
   "cell_type": "code",
   "execution_count": 1,
   "metadata": {},
   "outputs": [],
   "source": [
    "import torch\n",
    "import torch.nn as nn\n",
    "import torch.nn.functional as F\n",
    "import torch.optim as optim\n",
    "from torch.autograd import Variable"
   ]
  },
  {
   "cell_type": "code",
   "execution_count": 2,
   "metadata": {},
   "outputs": [],
   "source": [
    "class Net(nn.Module):\n",
    "    def __init__(self):\n",
    "        super(Net, self).__init__()\n",
    "        self.fc1 = nn.Linear(2, 50) # 2 Input noses, 50 in middle layers\n",
    "        self.fc2 = nn.Linear(50, 1) # 50 middle layer, 1 output nodes\n",
    "        self.rl1 = nn.ReLU()\n",
    "        self.rl2 = nn.ReLU()\n",
    "    \n",
    "    def forward(self, x):\n",
    "        x = self.fc1(x)\n",
    "        x = self.rl1(x)\n",
    "        x = self.fc2(x)\n",
    "        x = self.rl2(x)\n",
    "        return x"
   ]
  },
  {
   "cell_type": "code",
   "execution_count": 3,
   "metadata": {},
   "outputs": [
    {
     "name": "stdout",
     "output_type": "stream",
     "text": [
      "loss:  0.7208119034767151\n",
      "loss:  0.19625259935855865\n",
      "loss:  0.0703129991889\n",
      "loss:  0.017746583558619022\n",
      "loss:  0.004908343777060509\n",
      "loss:  0.0025783070595934987\n",
      "loss:  0.002181260264478624\n",
      "loss:  0.0020784364314749837\n",
      "loss:  0.0020223130704835057\n",
      "loss:  0.0019770973594859242\n",
      "Finished training...\n",
      "tensor([[0.0132],\n",
      "        [0.9283],\n",
      "        [0.9261],\n",
      "        [0.0600]], device='cuda:0', grad_fn=<ThresholdBackward0>)\n"
     ]
    }
   ],
   "source": [
    "net = Net()\n",
    "net.cuda()\n",
    "\n",
    "criterion = nn.MSELoss()\n",
    "optimizer = optim.SGD(net.parameters(), lr=0.001, momentum=0.1)\n",
    "\n",
    "trainingdataX = [[[0.01, 0.01], [0.01, 0.90], [0.90, 0.01], [0.95, 0.95]], [[0.02, 0.03], [0.04, 0.95], [0.97, 0.02], [0.96, 0.95]]]\n",
    "trainingdataY = [[[0.01], [0.90], [0.90], [0.01]], [[0.04], [0.97], [0.98], [0.1]]]\n",
    "NumEpoches = 10000\n",
    "for epoch in range(NumEpoches):\n",
    "\n",
    "    running_loss = 0.0\n",
    "    for i, data in enumerate(trainingdataX, 0):\n",
    "        inputs = data\n",
    "        labels = trainingdataY[i]\n",
    "        inputs = Variable(torch.FloatTensor(inputs)).cuda()\n",
    "        labels = Variable(torch.FloatTensor(labels)).cuda()\n",
    "        optimizer.zero_grad()\n",
    "        outputs = net(inputs)\n",
    "        loss = criterion(outputs, labels)\n",
    "        loss.backward()        \n",
    "        optimizer.step()\n",
    "        running_loss += loss.item()\n",
    "    if epoch % 1000 == 0:\n",
    "        print(\"loss: \", running_loss)\n",
    "print(\"Finished training...\")\n",
    "print(net(Variable(torch.FloatTensor(trainingdataX[0])).cuda()))"
   ]
  },
  {
   "cell_type": "code",
   "execution_count": 4,
   "metadata": {},
   "outputs": [
    {
     "name": "stdout",
     "output_type": "stream",
     "text": [
      "loss:  0.0019134845351800323\n",
      "Finished testing...\n",
      "tensor([[0.0132],\n",
      "        [0.9283],\n",
      "        [0.9261],\n",
      "        [0.0600]], device='cuda:0', grad_fn=<ThresholdBackward0>)\n"
     ]
    }
   ],
   "source": [
    "net.eval()\n",
    "\n",
    "\n",
    "testingdataX = [[[0.01, 0.01], [0.01, 0.90], [0.90, 0.01], [0.95, 0.95]], [[0.02, 0.03], [0.04, 0.95], [0.97, 0.02], [0.96, 0.95]]]\n",
    "ttestingdataY = [[[0.01], [0.90], [0.90], [0.01]], [[0.04], [0.97], [0.98], [0.1]]]\n",
    "\n",
    "running_loss = 0.0\n",
    "for i, data in enumerate(trainingdataX, 0):\n",
    "    inputs = data\n",
    "    labels = trainingdataY[i]\n",
    "    inputs = Variable(torch.FloatTensor(inputs)).cuda()\n",
    "    labels = Variable(torch.FloatTensor(labels)).cuda()\n",
    "    outputs = net(inputs)\n",
    "    loss = criterion(outputs, labels)\n",
    "    running_loss += loss.item()\n",
    "print(\"loss: \", running_loss)\n",
    "        \n",
    "print(\"Finished testing...\")\n",
    "print(net(Variable(torch.FloatTensor(trainingdataX[0])).cuda()))"
   ]
  }
 ],
 "metadata": {
  "kernelspec": {
   "display_name": "Python 3",
   "language": "python",
   "name": "python3"
  },
  "language_info": {
   "codemirror_mode": {
    "name": "ipython",
    "version": 3
   },
   "file_extension": ".py",
   "mimetype": "text/x-python",
   "name": "python",
   "nbconvert_exporter": "python",
   "pygments_lexer": "ipython3",
   "version": "3.5.2"
  }
 },
 "nbformat": 4,
 "nbformat_minor": 1
}
